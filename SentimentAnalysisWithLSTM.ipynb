{
  "nbformat": 4,
  "nbformat_minor": 0,
  "metadata": {
    "colab": {
      "name": "SentimentAnalysisWithLSTM.ipynb",
      "version": "0.3.2",
      "provenance": [],
      "include_colab_link": true
    },
    "kernelspec": {
      "name": "python3",
      "display_name": "Python 3"
    }
  },
  "cells": [
    {
      "cell_type": "markdown",
      "metadata": {
        "id": "view-in-github",
        "colab_type": "text"
      },
      "source": [
        "[View in Colaboratory](https://colab.research.google.com/github/TimSim/SentimentAnalysis/blob/master/SentimentAnalysisWithLSTM.ipynb)"
      ]
    },
    {
      "metadata": {
        "id": "MYlAV3xgRygs",
        "colab_type": "code",
        "colab": {
          "base_uri": "https://localhost:8080/",
          "height": 121
        },
        "outputId": "18732d75-255d-4286-e4b5-7c7d04d7ca52"
      },
      "cell_type": "code",
      "source": [
        "# Load the Drive helper and mount\n",
        "from google.colab import drive\n",
        "\n",
        "# This will prompt for authorization.\n",
        "drive.mount('/content/drive')"
      ],
      "execution_count": 1,
      "outputs": [
        {
          "output_type": "stream",
          "text": [
            "Go to this URL in a browser: https://accounts.google.com/o/oauth2/auth?client_id=947318989803-6bn6qk8qdgf4n4g3pfee6491hc0brc4i.apps.googleusercontent.com&redirect_uri=urn%3Aietf%3Awg%3Aoauth%3A2.0%3Aoob&scope=email%20https%3A%2F%2Fwww.googleapis.com%2Fauth%2Fdocs.test%20https%3A%2F%2Fwww.googleapis.com%2Fauth%2Fdrive%20https%3A%2F%2Fwww.googleapis.com%2Fauth%2Fdrive.photos.readonly%20https%3A%2F%2Fwww.googleapis.com%2Fauth%2Fpeopleapi.readonly&response_type=code\n",
            "\n",
            "Enter your authorization code:\n",
            "··········\n",
            "Mounted at /content/drive\n"
          ],
          "name": "stdout"
        }
      ]
    },
    {
      "metadata": {
        "id": "cRjvEcC4SYNG",
        "colab_type": "code",
        "colab": {
          "base_uri": "https://localhost:8080/",
          "height": 101
        },
        "outputId": "38380db6-ff4d-4944-cec3-e5fd8aa04600"
      },
      "cell_type": "code",
      "source": [
        "# After executing the cell above, Drive\n",
        "# files will be present in \"/content/drive/My Drive\".\n",
        "!ls -la \"/content/drive/My Drive/Colab Notebooks/sentimentAnalysis/\""
      ],
      "execution_count": 5,
      "outputs": [
        {
          "output_type": "stream",
          "text": [
            "total 104697\n",
            "drwx------ 2 root root     4096 Oct 10 22:50 negativeReviews\n",
            "drwx------ 2 root root     4096 Oct 10 22:51 positiveReviews\n",
            "-rw------- 1 root root 27200080 Oct  3 23:56 wordsList.npy\n",
            "-rw------- 1 root root 80000080 Oct  3 23:56 wordVectors.npy\n"
          ],
          "name": "stdout"
        }
      ]
    },
    {
      "metadata": {
        "id": "YPRbk9kXTEMt",
        "colab_type": "code",
        "colab": {
          "base_uri": "https://localhost:8080/",
          "height": 50
        },
        "outputId": "d0677d7c-3bcc-42c4-a9f7-5eeba66a3e03"
      },
      "cell_type": "code",
      "source": [
        "\n",
        "import numpy as np\n",
        "wordsList = np.load('/content/drive/My Drive/Colab Notebooks/sentimentAnalysis/wordsList.npy')\n",
        "print('Loaded the word list!')\n",
        "wordsList = wordsList.tolist() #Originally loaded as numpy array\n",
        "wordsList = [word.decode('UTF-8') for word in wordsList] #Encode words as UTF-8\n",
        "wordVectors = np.load('/content/drive/My Drive/Colab Notebooks/sentimentAnalysis/wordVectors.npy')\n",
        "print ('Loaded the word vectors!')"
      ],
      "execution_count": 6,
      "outputs": [
        {
          "output_type": "stream",
          "text": [
            "Loaded the word list!\n",
            "Loaded the word vectors!\n"
          ],
          "name": "stdout"
        }
      ]
    },
    {
      "metadata": {
        "id": "F60FlIjGKFho",
        "colab_type": "code",
        "colab": {
          "base_uri": "https://localhost:8080/",
          "height": 50
        },
        "outputId": "dedf3bc2-ccbf-46f1-f18e-a3588423390b"
      },
      "cell_type": "code",
      "source": [
        "print(len(wordsList))\n",
        "print(wordVectors.shape)"
      ],
      "execution_count": 7,
      "outputs": [
        {
          "output_type": "stream",
          "text": [
            "400000\n",
            "(400000, 50)\n"
          ],
          "name": "stdout"
        }
      ]
    },
    {
      "metadata": {
        "id": "kUNFDmn4KJz_",
        "colab_type": "code",
        "colab": {
          "base_uri": "https://localhost:8080/",
          "height": 168
        },
        "outputId": "cbf55c89-dea4-4442-8204-4937a3cbd615"
      },
      "cell_type": "code",
      "source": [
        "\n",
        "baseballIndex = wordsList.index('baseball')\n",
        "wordVectors[baseballIndex]"
      ],
      "execution_count": 8,
      "outputs": [
        {
          "output_type": "execute_result",
          "data": {
            "text/plain": [
              "array([-1.9327  ,  1.0421  , -0.78515 ,  0.91033 ,  0.22711 , -0.62158 ,\n",
              "       -1.6493  ,  0.07686 , -0.5868  ,  0.058831,  0.35628 ,  0.68916 ,\n",
              "       -0.50598 ,  0.70473 ,  1.2664  , -0.40031 , -0.020687,  0.80863 ,\n",
              "       -0.90566 , -0.074054, -0.87675 , -0.6291  , -0.12685 ,  0.11524 ,\n",
              "       -0.55685 , -1.6826  , -0.26291 ,  0.22632 ,  0.713   , -1.0828  ,\n",
              "        2.1231  ,  0.49869 ,  0.066711, -0.48226 , -0.17897 ,  0.47699 ,\n",
              "        0.16384 ,  0.16537 , -0.11506 , -0.15962 , -0.94926 , -0.42833 ,\n",
              "       -0.59457 ,  1.3566  , -0.27506 ,  0.19918 , -0.36008 ,  0.55667 ,\n",
              "       -0.70315 ,  0.17157 ], dtype=float32)"
            ]
          },
          "metadata": {
            "tags": []
          },
          "execution_count": 8
        }
      ]
    },
    {
      "metadata": {
        "id": "7Uk3T7LwKM1R",
        "colab_type": "code",
        "colab": {
          "base_uri": "https://localhost:8080/",
          "height": 50
        },
        "outputId": "da1e8bc9-4510-4ae6-f934-64b7a1edc648"
      },
      "cell_type": "code",
      "source": [
        "import tensorflow as tf\n",
        "maxSeqLength = 10 #Maximum length of sentence\n",
        "numDimensions = 300 #Dimensions for each word vector\n",
        "firstSentence = np.zeros((maxSeqLength), dtype='int32')\n",
        "firstSentence[0] = wordsList.index(\"i\")\n",
        "firstSentence[1] = wordsList.index(\"thought\")\n",
        "firstSentence[2] = wordsList.index(\"the\")\n",
        "firstSentence[3] = wordsList.index(\"movie\")\n",
        "firstSentence[4] = wordsList.index(\"was\")\n",
        "firstSentence[5] = wordsList.index(\"incredible\")\n",
        "firstSentence[6] = wordsList.index(\"and\")\n",
        "firstSentence[7] = wordsList.index(\"inspiring\")\n",
        "#firstSentence[8] and firstSentence[9] are going to be 0\n",
        "print(firstSentence.shape)\n",
        "print(firstSentence) #Shows the row index for each word"
      ],
      "execution_count": 9,
      "outputs": [
        {
          "output_type": "stream",
          "text": [
            "(10,)\n",
            "[    41    804 201534   1005     15   7446      5  13767      0      0]\n"
          ],
          "name": "stdout"
        }
      ]
    },
    {
      "metadata": {
        "id": "USeZFI1FKQNm",
        "colab_type": "code",
        "colab": {
          "base_uri": "https://localhost:8080/",
          "height": 34
        },
        "outputId": "973ca45c-47fc-4c52-85bf-54aab3c424f4"
      },
      "cell_type": "code",
      "source": [
        "with tf.Session() as sess:\n",
        "    print(tf.nn.embedding_lookup(wordVectors,firstSentence).eval().shape)"
      ],
      "execution_count": 10,
      "outputs": [
        {
          "output_type": "stream",
          "text": [
            "(10, 50)\n"
          ],
          "name": "stdout"
        }
      ]
    },
    {
      "metadata": {
        "id": "ckuJLljQKT8e",
        "colab_type": "code",
        "colab": {
          "base_uri": "https://localhost:8080/",
          "height": 101
        },
        "outputId": "842417cb-b4b8-4988-a491-b09f9b966211"
      },
      "cell_type": "code",
      "source": [
        "from os import listdir\n",
        "from os.path import isfile, join\n",
        "positiveFiles = ['/content/drive/My Drive/Colab Notebooks/sentimentAnalysis/positiveReviews/' + f for f in listdir('/content/drive/My Drive/Colab Notebooks/sentimentAnalysis/positiveReviews/') if isfile(join('/content/drive/My Drive/Colab Notebooks/sentimentAnalysis/positiveReviews/', f))]\n",
        "negativeFiles = ['/content/drive/My Drive/Colab Notebooks/sentimentAnalysis/negativeReviews/' + f for f in listdir('/content/drive/My Drive/Colab Notebooks/sentimentAnalysis/negativeReviews/') if isfile(join('/content/drive/My Drive/Colab Notebooks/sentimentAnalysis/negativeReviews/', f))]\n",
        "numWords = []\n",
        "for pf in positiveFiles:\n",
        "    with open(pf, \"r\", encoding='utf-8') as f:\n",
        "        line=f.readline()\n",
        "        counter = len(line.split())\n",
        "        numWords.append(counter)       \n",
        "print('Positive files finished')\n",
        "\n",
        "for nf in negativeFiles:\n",
        "    with open(nf, \"r\", encoding='utf-8') as f:\n",
        "        line=f.readline()\n",
        "        counter = len(line.split())\n",
        "        numWords.append(counter)  \n",
        "print('Negative files finished')\n",
        "\n",
        "numFiles = len(numWords)\n",
        "print('The total number of files is', numFiles)\n",
        "print('The total number of words in the files is', sum(numWords))\n",
        "print('The average number of words in the files is', sum(numWords)/len(numWords))"
      ],
      "execution_count": 11,
      "outputs": [
        {
          "output_type": "stream",
          "text": [
            "Positive files finished\n",
            "Negative files finished\n",
            "The total number of files is 25000\n",
            "The total number of words in the files is 5844680\n",
            "The average number of words in the files is 233.7872\n"
          ],
          "name": "stdout"
        }
      ]
    },
    {
      "metadata": {
        "id": "JThH5RGTdEsm",
        "colab_type": "code",
        "colab": {
          "base_uri": "https://localhost:8080/",
          "height": 283
        },
        "outputId": "c98a2f5f-4cf3-4235-903d-a256203749f2"
      },
      "cell_type": "code",
      "source": [
        "import matplotlib.pyplot as plt\n",
        "%matplotlib inline\n",
        "plt.hist(numWords, 50)\n",
        "plt.xlabel('Sequence Length')\n",
        "plt.ylabel('Frequency')\n",
        "plt.axis([0, 1200, 0, 8000])\n",
        "plt.show()"
      ],
      "execution_count": 12,
      "outputs": [
        {
          "output_type": "display_data",
          "data": {
            "image/png": "[encoded data removed]",
            "text/plain": [
              "<matplotlib.figure.Figure at 0x7f4f543d8978>"
            ]
          },
          "metadata": {
            "tags": []
          }
        }
      ]
    },
    {
      "metadata": {
        "id": "P01CbNAvd9-V",
        "colab_type": "code",
        "colab": {}
      },
      "cell_type": "code",
      "source": [
        "maxSeqLength = 250"
      ],
      "execution_count": 0,
      "outputs": []
    },
    {
      "metadata": {
        "id": "tA7sQs01eEYN",
        "colab_type": "code",
        "colab": {
          "base_uri": "https://localhost:8080/",
          "height": 54
        },
        "outputId": "773afc7f-5828-4940-c383-19af4e3b9a4a"
      },
      "cell_type": "code",
      "source": [
        "fname = positiveFiles[3] #Can use any valid index (not just 3)\n",
        "with open(fname) as f:\n",
        "    for lines in f:\n",
        "        print(lines)\n",
        "        exit"
      ],
      "execution_count": 14,
      "outputs": [
        {
          "output_type": "stream",
          "text": [
            "This film came out 12 years years ago, and was a revelation even for people who knew something of the drag scene in New York. The textbooks on drag performance say nothing of these vogueing houses. Anthony Slide's 'Great Pretenders' says nothing. Julian Fleisher's \"The Drag Queens of New York: An Illustrated Field Guide\" with its flow chart of influence that pulls together Julian Eltinge, Minette, the Warhol queens, and the 90s club scene - and postdates the film - ignores the houses completely. Even Laurence Senelick's \"The Changing Room\" - the closest thing that we have to a definitive book on drag performance rushes quickly past the film and does not give the background information that one would have expected from it.<br /><br />I understand from the film itself,and various articles I found on the web that this house system goes back decades. The major film performance by a house member prior to 1990 seems to be Chrystal La Beija in \"The Queen\", 1968. The historical context is the biggest missing part of \"Paris is Burning\".<br /><br />The film is valuable because it focuses on a scene otherwise being ignored. It is a valuable snapshot of life in 1989. The unfortunate fact that Venus Xtravaganza was murdered during filming provides a very dramatic ending, but this is not the only film about transsexuals to include a real-life murder. As we now know, Dorian Corey had a mummified corpse in her literal closet, but this did not come out until three years later.<br /><br />Of historical importance, but we still need someone to do either a book or a documentary film that provides more context.\n"
          ],
          "name": "stdout"
        }
      ]
    },
    {
      "metadata": {
        "id": "4nPnBQxUeHK3",
        "colab_type": "code",
        "colab": {}
      },
      "cell_type": "code",
      "source": [
        "# Removes punctuation, parentheses, question marks, etc., and leaves only alphanumeric characters\n",
        "import re\n",
        "strip_special_chars = re.compile(\"[^A-Za-z0-9 ]+\")\n",
        "\n",
        "def cleanSentences(string):\n",
        "    string = string.lower().replace(\"<br />\", \" \")\n",
        "    return re.sub(strip_special_chars, \"\", string.lower())"
      ],
      "execution_count": 0,
      "outputs": []
    },
    {
      "metadata": {
        "id": "XQZBtMePfGsW",
        "colab_type": "code",
        "colab": {
          "base_uri": "https://localhost:8080/",
          "height": 554
        },
        "outputId": "5e962c58-edd5-4f86-9bdf-6275e92988b8"
      },
      "cell_type": "code",
      "source": [
        "firstFile = np.zeros((maxSeqLength), dtype='int32')\n",
        "with open(fname) as f:\n",
        "    indexCounter = 0\n",
        "    line=f.readline()\n",
        "    cleanedLine = cleanSentences(line)\n",
        "    split = cleanedLine.split()\n",
        "    for word in split:\n",
        "        if indexCounter < maxSeqLength:\n",
        "            try:\n",
        "                firstFile[indexCounter] = wordsList.index(word)\n",
        "            except ValueError:\n",
        "                firstFile[indexCounter] = 399999 #Vector for unknown words\n",
        "        indexCounter = indexCounter + 1\n",
        "firstFile"
      ],
      "execution_count": 16,
      "outputs": [
        {
          "output_type": "execute_result",
          "data": {
            "text/plain": [
              "array([    37,    319,    263,     66,    421,     82,     82,    363,\n",
              "            5,     15,      7,  10758,    151,     10,     69,     38,\n",
              "         1522,    645,      3, 201534,   7280,   1500,      6,     50,\n",
              "          196, 201534,  14239,     13,   7280,    883,    203,    936,\n",
              "            3,    158, 399999,   1631,   3532,  14986,    353,  45895,\n",
              "          210,    936,   8385, 399999, 201534,   7280,   6692,      3,\n",
              "           50,    196,     29,   6937,    610,   3372,     17,     47,\n",
              "         2981,   3099,      3,   1729,     12,  11110,    600,   8385,\n",
              "       258132, 143245, 201534,  20750,   6692,      5, 201534,  18297,\n",
              "          449,   1500,      5, 301250, 201534,    319,  19705, 201534,\n",
              "         1631,   2215,    151,  13591, 399999, 201534,   2803,    927,\n",
              "       201534,   5275,    873,     12,     53,     33,      4,      7,\n",
              "        10504,    539,     13,   7280,    883,  21485,   1177,    341,\n",
              "       201534,    319,      5,    260,     36,    455, 201534,   2093,\n",
              "          419,     12,     48,     54,     33,    287,     25,     20,\n",
              "           41,   1906,     25, 201534,    319, 399999,    917,   3550,\n",
              "           41,    238,     13, 201534,   1170,     12,     37,    166,\n",
              "          278,   1432,    137,   1424, 201534,    224,    319,    883,\n",
              "           21,      7,    166,    393,   1996,      4,   1455,   1348,\n",
              "            4,     30, 143193,   1047, 202546,      6, 201534,   2060,\n",
              "         3177, 201534,   2245,   4710,     14, 201534,    882,   1510,\n",
              "          153,      3,   1035,     14,   4471, 201534,    319,     14,\n",
              "         4640,    113,     20,   6545,     13,      7,   1500,   2751,\n",
              "          134,   5101,     20,     14,      7,   4640,  20972,      3,\n",
              "          214,      6,   1748, 201534,   8609,    853,     12,   7416,\n",
              "       231627,     15,   5926,    105,   7274,   1952,      7,    191,\n",
              "         3393,   1945,     34,     37,     14,     36, 201534,     91,\n",
              "          319,     59,  58954,      4,    488,      7, 399999,   1475,\n",
              "           19,     53,    114,    346,  35586,  13510,     40,      7,\n",
              "        53900,  14244,      6,     71,  18762,  12876,     34,     37,\n",
              "          119,     36,    326,     66,    207,     87,     82,    168,\n",
              "            3,   2245], dtype=int32)"
            ]
          },
          "metadata": {
            "tags": []
          },
          "execution_count": 16
        }
      ]
    },
    {
      "metadata": {
        "id": "o8Fkk9umfKJG",
        "colab_type": "code",
        "colab": {}
      },
      "cell_type": "code",
      "source": [
        "# ids = np.zeros((numFiles, maxSeqLength), dtype='int32')\n",
        "# fileCounter = 0\n",
        "# for pf in positiveFiles:\n",
        "#    with open(pf, \"r\") as f:\n",
        "#        indexCounter = 0\n",
        "#        line=f.readline()\n",
        "#        cleanedLine = cleanSentences(line)\n",
        "#        split = cleanedLine.split()\n",
        "#        for word in split:\n",
        "#            try:\n",
        "#                ids[fileCounter][indexCounter] = wordsList.index(word)\n",
        "#            except ValueError:\n",
        "#                ids[fileCounter][indexCounter] = 399999 #Vector for unkown words\n",
        "#            indexCounter = indexCounter + 1\n",
        "#            if indexCounter >= maxSeqLength:\n",
        "#                break\n",
        "#        fileCounter = fileCounter + 1 \n",
        "\n",
        "# for nf in negativeFiles:\n",
        "#    with open(nf, \"r\") as f:\n",
        "#        indexCounter = 0\n",
        "#        line=f.readline()\n",
        "#        cleanedLine = cleanSentences(line)\n",
        "#        split = cleanedLine.split()\n",
        "#        for word in split:\n",
        "#            try:\n",
        "#                ids[fileCounter][indexCounter] = wordsList.index(word)\n",
        "#            except ValueError:\n",
        "#                ids[fileCounter][indexCounter] = 399999 #Vector for unkown words\n",
        "#            indexCounter = indexCounter + 1\n",
        "#            if indexCounter >= maxSeqLength:\n",
        "#                break\n",
        "#        fileCounter = fileCounter + 1 \n",
        "# #Pass into embedding function and see if it evaluates. \n",
        "\n",
        "# np.save('idsMatrix', ids)"
      ],
      "execution_count": 0,
      "outputs": []
    },
    {
      "metadata": {
        "id": "F5YhKAWpfT4-",
        "colab_type": "code",
        "colab": {}
      },
      "cell_type": "code",
      "source": [
        "ids = np.load('/content/drive/My Drive/Colab Notebooks/sentimentAnalysis/idsMatrix.npy')"
      ],
      "execution_count": 0,
      "outputs": []
    },
    {
      "metadata": {
        "id": "1NTjIoIofqa_",
        "colab_type": "code",
        "colab": {}
      },
      "cell_type": "code",
      "source": [
        "from random import randint\n",
        "\n",
        "def getTrainBatch():\n",
        "    labels = []\n",
        "    arr = np.zeros([batchSize, maxSeqLength])\n",
        "    for i in range(batchSize):\n",
        "        if (i % 2 == 0): \n",
        "            num = randint(1,11499)\n",
        "            labels.append([1,0])\n",
        "        else:\n",
        "            num = randint(13499,24999)\n",
        "            labels.append([0,1])\n",
        "        arr[i] = ids[num-1:num]\n",
        "    return arr, labels\n",
        "\n",
        "def getTestBatch():\n",
        "    labels = []\n",
        "    arr = np.zeros([batchSize, maxSeqLength])\n",
        "    for i in range(batchSize):\n",
        "        num = randint(11499,13499)\n",
        "        if (num <= 12499):\n",
        "            labels.append([1,0])\n",
        "        else:\n",
        "            labels.append([0,1])\n",
        "        arr[i] = ids[num-1:num]\n",
        "    return arr, labels"
      ],
      "execution_count": 0,
      "outputs": []
    },
    {
      "metadata": {
        "id": "9Jh0QvrEfuQO",
        "colab_type": "code",
        "colab": {}
      },
      "cell_type": "code",
      "source": [
        "batchSize = 24\n",
        "lstmUnits = 64\n",
        "numClasses = 2\n",
        "iterations = 100000"
      ],
      "execution_count": 0,
      "outputs": []
    },
    {
      "metadata": {
        "id": "wivSZpX8fwro",
        "colab_type": "code",
        "colab": {}
      },
      "cell_type": "code",
      "source": [
        "import tensorflow as tf\n",
        "tf.reset_default_graph()\n",
        "\n",
        "labels = tf.placeholder(tf.float32, [batchSize, numClasses])\n",
        "input_data = tf.placeholder(tf.int32, [batchSize, maxSeqLength])"
      ],
      "execution_count": 0,
      "outputs": []
    },
    {
      "metadata": {
        "id": "s0Z9WE7PfzdO",
        "colab_type": "code",
        "colab": {}
      },
      "cell_type": "code",
      "source": [
        "data = tf.Variable(tf.zeros([batchSize, maxSeqLength, numDimensions]),dtype=tf.float32)\n",
        "data = tf.nn.embedding_lookup(wordVectors,input_data)"
      ],
      "execution_count": 0,
      "outputs": []
    },
    {
      "metadata": {
        "id": "q-VTUBxNf_0n",
        "colab_type": "code",
        "colab": {
          "base_uri": "https://localhost:8080/",
          "height": 67
        },
        "outputId": "e8ecf6cc-d2f3-4199-b16b-754bbb8c783f"
      },
      "cell_type": "code",
      "source": [
        "lstmCell = tf.contrib.rnn.BasicLSTMCell(lstmUnits)\n",
        "lstmCell = tf.contrib.rnn.DropoutWrapper(cell=lstmCell, output_keep_prob=0.75)\n",
        "value, _ = tf.nn.dynamic_rnn(lstmCell, data, dtype=tf.float32)"
      ],
      "execution_count": 28,
      "outputs": [
        {
          "output_type": "stream",
          "text": [
            "WARNING:tensorflow:From <ipython-input-28-db6a6fc2c55e>:1: BasicLSTMCell.__init__ (from tensorflow.python.ops.rnn_cell_impl) is deprecated and will be removed in a future version.\n",
            "Instructions for updating:\n",
            "This class is deprecated, please use tf.nn.rnn_cell.LSTMCell, which supports all the feature this cell currently has. Please replace the existing code with tf.nn.rnn_cell.LSTMCell(name='basic_lstm_cell').\n"
          ],
          "name": "stdout"
        }
      ]
    },
    {
      "metadata": {
        "id": "xj01GzvzgFe_",
        "colab_type": "code",
        "colab": {}
      },
      "cell_type": "code",
      "source": [
        "weight = tf.Variable(tf.truncated_normal([lstmUnits, numClasses]))\n",
        "bias = tf.Variable(tf.constant(0.1, shape=[numClasses]))\n",
        "value = tf.transpose(value, [1, 0, 2])\n",
        "last = tf.gather(value, int(value.get_shape()[0]) - 1)\n",
        "prediction = (tf.matmul(last, weight) + bias)"
      ],
      "execution_count": 0,
      "outputs": []
    },
    {
      "metadata": {
        "id": "f4CnoKhugINf",
        "colab_type": "code",
        "colab": {}
      },
      "cell_type": "code",
      "source": [
        "correctPred = tf.equal(tf.argmax(prediction,1), tf.argmax(labels,1))\n",
        "accuracy = tf.reduce_mean(tf.cast(correctPred, tf.float32))"
      ],
      "execution_count": 0,
      "outputs": []
    },
    {
      "metadata": {
        "id": "5Toxa51hgKxW",
        "colab_type": "code",
        "colab": {
          "base_uri": "https://localhost:8080/",
          "height": 171
        },
        "outputId": "3069dea6-1659-46aa-d78a-45d4e037d289"
      },
      "cell_type": "code",
      "source": [
        "loss = tf.reduce_mean(tf.nn.softmax_cross_entropy_with_logits(logits=prediction, labels=labels))\n",
        "optimizer = tf.train.AdamOptimizer().minimize(loss)"
      ],
      "execution_count": 31,
      "outputs": [
        {
          "output_type": "stream",
          "text": [
            "WARNING:tensorflow:From <ipython-input-31-773132a4e1b5>:1: softmax_cross_entropy_with_logits (from tensorflow.python.ops.nn_ops) is deprecated and will be removed in a future version.\n",
            "Instructions for updating:\n",
            "\n",
            "Future major versions of TensorFlow will allow gradients to flow\n",
            "into the labels input on backprop by default.\n",
            "\n",
            "See `tf.nn.softmax_cross_entropy_with_logits_v2`.\n",
            "\n"
          ],
          "name": "stdout"
        }
      ]
    },
    {
      "metadata": {
        "id": "mE6jvcROgOqP",
        "colab_type": "code",
        "colab": {}
      },
      "cell_type": "code",
      "source": [
        "import datetime\n",
        "\n",
        "tf.summary.scalar('Loss', loss)\n",
        "tf.summary.scalar('Accuracy', accuracy)\n",
        "merged = tf.summary.merge_all()\n",
        "logdir = \"tensorboard/\" + datetime.datetime.now().strftime(\"%Y%m%d-%H%M%S\") + \"/\"\n",
        "writer = tf.summary.FileWriter(logdir, sess.graph)"
      ],
      "execution_count": 0,
      "outputs": []
    },
    {
      "metadata": {
        "id": "zvgv5vfNgSKA",
        "colab_type": "code",
        "colab": {}
      },
      "cell_type": "code",
      "source": [
        "# sess = tf.InteractiveSession()\n",
        "# saver = tf.train.Saver()\n",
        "# sess.run(tf.global_variables_initializer())\n",
        "\n",
        "# for i in range(iterations):\n",
        "#    #Next Batch of reviews\n",
        "#    nextBatch, nextBatchLabels = getTrainBatch();\n",
        "#    sess.run(optimizer, {input_data: nextBatch, labels: nextBatchLabels})\n",
        "   \n",
        "#    #Write summary to Tensorboard\n",
        "#    if (i % 50 == 0):\n",
        "#        summary = sess.run(merged, {input_data: nextBatch, labels: nextBatchLabels})\n",
        "#        writer.add_summary(summary, i)\n",
        "\n",
        "#    #Save the network every 10,000 training iterations\n",
        "#    if (i % 10000 == 0 and i != 0):\n",
        "#        save_path = saver.save(sess, \"models/pretrained_lstm.ckpt\", global_step=i)\n",
        "#        print(\"saved to %s\" % save_path)\n",
        "# writer.close()"
      ],
      "execution_count": 0,
      "outputs": []
    },
    {
      "metadata": {
        "id": "bk2NpvzGgVjn",
        "colab_type": "code",
        "colab": {
          "base_uri": "https://localhost:8080/",
          "height": 366
        },
        "outputId": "71623508-9f64-4c96-ec0a-f574c28ea2ac"
      },
      "cell_type": "code",
      "source": [
        "sess = tf.InteractiveSession()\n",
        "saver = tf.train.Saver()\n",
        "saver.restore(sess, tf.train.latest_checkpoint('/content/drive/My Drive/Colab Notebooks/sentimentAnalysis/models'))"
      ],
      "execution_count": 35,
      "outputs": [
        {
          "output_type": "stream",
          "text": [
            "/usr/local/lib/python3.6/dist-packages/tensorflow/python/client/session.py:1662: UserWarning: An interactive session is already active. This can cause out-of-memory errors in some cases. You must explicitly call `InteractiveSession.close()` to release resources held by the other session(s).\n",
            "  warnings.warn('An interactive session is already active. This can '\n"
          ],
          "name": "stderr"
        },
        {
          "output_type": "error",
          "ename": "ValueError",
          "evalue": "ignored",
          "traceback": [
            "\u001b[0;31m---------------------------------------------------------------------------\u001b[0m",
            "\u001b[0;31mValueError\u001b[0m                                Traceback (most recent call last)",
            "\u001b[0;32m<ipython-input-35-1b756c6073ea>\u001b[0m in \u001b[0;36m<module>\u001b[0;34m()\u001b[0m\n\u001b[1;32m      1\u001b[0m \u001b[0msess\u001b[0m \u001b[0;34m=\u001b[0m \u001b[0mtf\u001b[0m\u001b[0;34m.\u001b[0m\u001b[0mInteractiveSession\u001b[0m\u001b[0;34m(\u001b[0m\u001b[0;34m)\u001b[0m\u001b[0;34m\u001b[0m\u001b[0m\n\u001b[1;32m      2\u001b[0m \u001b[0msaver\u001b[0m \u001b[0;34m=\u001b[0m \u001b[0mtf\u001b[0m\u001b[0;34m.\u001b[0m\u001b[0mtrain\u001b[0m\u001b[0;34m.\u001b[0m\u001b[0mSaver\u001b[0m\u001b[0;34m(\u001b[0m\u001b[0;34m)\u001b[0m\u001b[0;34m\u001b[0m\u001b[0m\n\u001b[0;32m----> 3\u001b[0;31m \u001b[0msaver\u001b[0m\u001b[0;34m.\u001b[0m\u001b[0mrestore\u001b[0m\u001b[0;34m(\u001b[0m\u001b[0msess\u001b[0m\u001b[0;34m,\u001b[0m \u001b[0mtf\u001b[0m\u001b[0;34m.\u001b[0m\u001b[0mtrain\u001b[0m\u001b[0;34m.\u001b[0m\u001b[0mlatest_checkpoint\u001b[0m\u001b[0;34m(\u001b[0m\u001b[0;34m'/content/drive/My Drive/Colab Notebooks/sentimentAnalysis/models'\u001b[0m\u001b[0;34m)\u001b[0m\u001b[0;34m)\u001b[0m\u001b[0;34m\u001b[0m\u001b[0m\n\u001b[0m",
            "\u001b[0;32m/usr/local/lib/python3.6/dist-packages/tensorflow/python/training/saver.py\u001b[0m in \u001b[0;36mrestore\u001b[0;34m(self, sess, save_path)\u001b[0m\n\u001b[1;32m   1524\u001b[0m       \u001b[0;32mreturn\u001b[0m\u001b[0;34m\u001b[0m\u001b[0m\n\u001b[1;32m   1525\u001b[0m     \u001b[0;32mif\u001b[0m \u001b[0msave_path\u001b[0m \u001b[0;32mis\u001b[0m \u001b[0;32mNone\u001b[0m\u001b[0;34m:\u001b[0m\u001b[0;34m\u001b[0m\u001b[0m\n\u001b[0;32m-> 1526\u001b[0;31m       \u001b[0;32mraise\u001b[0m \u001b[0mValueError\u001b[0m\u001b[0;34m(\u001b[0m\u001b[0;34m\"Can't load save_path when it is None.\"\u001b[0m\u001b[0;34m)\u001b[0m\u001b[0;34m\u001b[0m\u001b[0m\n\u001b[0m\u001b[1;32m   1527\u001b[0m \u001b[0;34m\u001b[0m\u001b[0m\n\u001b[1;32m   1528\u001b[0m     \u001b[0;32mif\u001b[0m \u001b[0;32mnot\u001b[0m \u001b[0mcheckpoint_management\u001b[0m\u001b[0;34m.\u001b[0m\u001b[0mcheckpoint_exists\u001b[0m\u001b[0;34m(\u001b[0m\u001b[0mcompat\u001b[0m\u001b[0;34m.\u001b[0m\u001b[0mas_text\u001b[0m\u001b[0;34m(\u001b[0m\u001b[0msave_path\u001b[0m\u001b[0;34m)\u001b[0m\u001b[0;34m)\u001b[0m\u001b[0;34m:\u001b[0m\u001b[0;34m\u001b[0m\u001b[0m\n",
            "\u001b[0;31mValueError\u001b[0m: Can't load save_path when it is None."
          ]
        }
      ]
    }
  ]
}