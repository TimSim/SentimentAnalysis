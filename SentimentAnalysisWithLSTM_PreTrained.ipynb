{
  "nbformat": 4,
  "nbformat_minor": 0,
  "metadata": {
    "colab": {
      "name": "SentimentAnalysisWithLSTM_PreTrained.ipynb",
      "version": "0.3.2",
      "provenance": [],
      "include_colab_link": true
    },
    "kernelspec": {
      "name": "python3",
      "display_name": "Python 3"
    }
  },
  "cells": [
    {
      "cell_type": "markdown",
      "metadata": {
        "id": "view-in-github",
        "colab_type": "text"
      },
      "source": [
        "[View in Colaboratory](https://colab.research.google.com/github/TimSim/SentimentAnalysis/blob/master/SentimentAnalysisWithLSTM_PreTrained.ipynb)"
      ]
    },
    {
      "metadata": {
        "id": "B5m7SX71Vh8Y",
        "colab_type": "text"
      },
      "cell_type": "markdown",
      "source": [
        "This is based on a tutorail published by O'Reilly https://www.oreilly.com/learning/perform-sentiment-analysis-with-lstms-using-tensorflow\n"
      ]
    },
    {
      "metadata": {
        "id": "xqkgh7xyWGxG",
        "colab_type": "text"
      },
      "cell_type": "markdown",
      "source": [
        "Source code on which this is based can be found here: https://github.com/adeshpande3/LSTM-Sentiment-Analysis"
      ]
    },
    {
      "metadata": {
        "id": "MYlAV3xgRygs",
        "colab_type": "code",
        "colab": {
          "base_uri": "https://localhost:8080/",
          "height": 121
        },
        "outputId": "5a244607-eebf-4029-92e5-3bfcea7a19fe"
      },
      "cell_type": "code",
      "source": [
        "# Load the Drive helper and mount\n",
        "from google.colab import drive\n",
        "\n",
        "# This will prompt for authorization.\n",
        "drive.mount('/content/drive')"
      ],
      "execution_count": 1,
      "outputs": [
        {
          "output_type": "stream",
          "text": [
            "Go to this URL in a browser: https://accounts.google.com/o/oauth2/auth?client_id=947318989803-6bn6qk8qdgf4n4g3pfee6491hc0brc4i.apps.googleusercontent.com&redirect_uri=urn%3Aietf%3Awg%3Aoauth%3A2.0%3Aoob&scope=email%20https%3A%2F%2Fwww.googleapis.com%2Fauth%2Fdocs.test%20https%3A%2F%2Fwww.googleapis.com%2Fauth%2Fdrive%20https%3A%2F%2Fwww.googleapis.com%2Fauth%2Fdrive.photos.readonly%20https%3A%2F%2Fwww.googleapis.com%2Fauth%2Fpeopleapi.readonly&response_type=code\n",
            "\n",
            "Enter your authorization code:\n",
            "··········\n",
            "Mounted at /content/drive\n"
          ],
          "name": "stdout"
        }
      ]
    },
    {
      "metadata": {
        "id": "cRjvEcC4SYNG",
        "colab_type": "code",
        "colab": {
          "base_uri": "https://localhost:8080/",
          "height": 235
        },
        "outputId": "aca087da-6dcb-4390-c8d6-bbcb76251c61"
      },
      "cell_type": "code",
      "source": [
        "# After executing the cell above, Drive\n",
        "# files will be present in \"/content/drive/My Drive\".\n",
        "!ls -la \"/content/drive/My Drive/Colab Notebooks\""
      ],
      "execution_count": 8,
      "outputs": [
        {
          "output_type": "stream",
          "text": [
            "total 1138455\n",
            "-rw------- 1 root root     23020 Sep 27 22:28 ChatBotWithTFLearn.ipynb\n",
            "-rw------- 1 root root 171350079 Oct  3 23:38 glove50.txt\n",
            "-rw------- 1 root root 862182613 Oct  3 00:35 glove.6B.zip\n",
            "-rw------- 1 root root  25000080 Oct  3 23:56 idsMatrix.npy\n",
            "-rw------- 1 root root      2288 Sep 26 00:52 intents2.json\n",
            "-rw------- 1 root root      2088 Sep 26 00:51 intents.json\n",
            "-rw------- 1 root root      7902 Oct  3 23:52 SentimentAnalysisWithLSTM.ipynb\n",
            "-rw------- 1 root root       315 Sep 27 22:37 Untitled0.ipynb\n",
            "-rw------- 1 root root       579 Aug 31 22:34 Untitled1.ipynb\n",
            "-rw------- 1 root root      4274 Oct  3 19:29 Untitled2.ipynb\n",
            "-rw------- 1 root root  27200080 Oct  3 23:56 wordsList.npy\n",
            "-rw------- 1 root root  80000080 Oct  3 23:56 wordVectors.npy\n"
          ],
          "name": "stdout"
        }
      ]
    },
    {
      "metadata": {
        "id": "YPRbk9kXTEMt",
        "colab_type": "code",
        "colab": {}
      },
      "cell_type": "code",
      "source": [
        "numDimensions = 300\n",
        "maxSeqLength = 250\n",
        "batchSize = 24\n",
        "lstmUnits = 64\n",
        "numClasses = 2\n",
        "iterations = 100000"
      ],
      "execution_count": 0,
      "outputs": []
    },
    {
      "metadata": {
        "id": "NP3SxH5dXbBP",
        "colab_type": "code",
        "colab": {}
      },
      "cell_type": "code",
      "source": [
        "import numpy as np\n",
        "wordsList = np.load('/content/drive/My Drive/Colab Notebooks/wordsList.npy').tolist()\n",
        "wordsList = [word.decode('UTF-8') for word in wordsList] #Encode words as UTF-8\n",
        "wordVectors = np.load('/content/drive/My Drive/Colab Notebooks/wordVectors.npy')"
      ],
      "execution_count": 0,
      "outputs": []
    },
    {
      "metadata": {
        "id": "M_NPPRkQXmCP",
        "colab_type": "code",
        "colab": {
          "base_uri": "https://localhost:8080/",
          "height": 67
        },
        "outputId": "5d964f63-4ba4-4e9f-b05c-8362607c84ea"
      },
      "cell_type": "code",
      "source": [
        "import tensorflow as tf\n",
        "tf.reset_default_graph()\n",
        "\n",
        "labels = tf.placeholder(tf.float32, [batchSize, numClasses])\n",
        "input_data = tf.placeholder(tf.int32, [batchSize, maxSeqLength])\n",
        "\n",
        "data = tf.Variable(tf.zeros([batchSize, maxSeqLength, numDimensions]),dtype=tf.float32)\n",
        "data = tf.nn.embedding_lookup(wordVectors,input_data)\n",
        "\n",
        "lstmCell = tf.contrib.rnn.BasicLSTMCell(lstmUnits)\n",
        "lstmCell = tf.contrib.rnn.DropoutWrapper(cell=lstmCell, output_keep_prob=0.25)\n",
        "value, _ = tf.nn.dynamic_rnn(lstmCell, data, dtype=tf.float32)\n",
        "\n",
        "weight = tf.Variable(tf.truncated_normal([lstmUnits, numClasses]))\n",
        "bias = tf.Variable(tf.constant(0.1, shape=[numClasses]))\n",
        "value = tf.transpose(value, [1, 0, 2])\n",
        "last = tf.gather(value, int(value.get_shape()[0]) - 1)\n",
        "prediction = (tf.matmul(last, weight) + bias)\n",
        "\n",
        "correctPred = tf.equal(tf.argmax(prediction,1), tf.argmax(labels,1))\n",
        "accuracy = tf.reduce_mean(tf.cast(correctPred, tf.float32))"
      ],
      "execution_count": 11,
      "outputs": [
        {
          "output_type": "stream",
          "text": [
            "WARNING:tensorflow:From <ipython-input-11-6213546520bc>:10: BasicLSTMCell.__init__ (from tensorflow.python.ops.rnn_cell_impl) is deprecated and will be removed in a future version.\n",
            "Instructions for updating:\n",
            "This class is deprecated, please use tf.nn.rnn_cell.LSTMCell, which supports all the feature this cell currently has. Please replace the existing code with tf.nn.rnn_cell.LSTMCell(name='basic_lstm_cell').\n"
          ],
          "name": "stdout"
        }
      ]
    },
    {
      "metadata": {
        "id": "40v2cYrUYArh",
        "colab_type": "code",
        "colab": {}
      },
      "cell_type": "code",
      "source": [
        "sess = tf.InteractiveSession()\n",
        "saver = tf.train.Saver()\n",
        "saver.restore(sess, tf.train.latest_checkpoint('/content/drive/My Drive/Colab Notebooks/models'))"
      ],
      "execution_count": 0,
      "outputs": []
    }
  ]
}